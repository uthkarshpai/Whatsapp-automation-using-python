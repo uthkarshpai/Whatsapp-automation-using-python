{
 "cells": [
  {
   "cell_type": "code",
   "execution_count": null,
   "metadata": {
    "vscode": {
     "languageId": "plaintext"
    }
   },
   "outputs": [],
   "source": [
    "import pywhatkit\n",
    "import pandas as pd\n",
    "import time\n",
    "import os"
   ]
  },
  {
   "cell_type": "code",
   "execution_count": null,
   "metadata": {
    "vscode": {
     "languageId": "plaintext"
    }
   },
   "outputs": [],
   "source": [
    "df=pd.read_csv(\"AI,Robotics & Research AI - Sheet1.csv\")   #did not show any of the outputs as they have people's personal number\n",
    "df"
   ]
  },
  {
   "cell_type": "code",
   "execution_count": null,
   "metadata": {
    "vscode": {
     "languageId": "plaintext"
    }
   },
   "outputs": [],
   "source": [
    "df['Phone Number'].isna().sum()   #no.of null values in our csv file"
   ]
  },
  {
   "cell_type": "code",
   "execution_count": null,
   "metadata": {
    "vscode": {
     "languageId": "plaintext"
    }
   },
   "outputs": [],
   "source": [
    "df[df['Phone Number'].isna()]   #the files with null values"
   ]
  },
  {
   "cell_type": "code",
   "execution_count": null,
   "metadata": {
    "vscode": {
     "languageId": "plaintext"
    }
   },
   "outputs": [],
   "source": [
    "num_list= df[\"Phone Number\"]\n",
    "num_list = list(num_list)\n",
    "len(num_list)\n",
    "x=len(num_list)"
   ]
  },
  {
   "cell_type": "code",
   "execution_count": null,
   "metadata": {
    "vscode": {
     "languageId": "plaintext"
    }
   },
   "outputs": [],
   "source": [
    "num_list"
   ]
  },
  {
   "cell_type": "code",
   "execution_count": null,
   "metadata": {
    "vscode": {
     "languageId": "plaintext"
    }
   },
   "outputs": [],
   "source": [
    "for i in num_list[0:x]:  #how many numbers you have\n",
    "    string=\"Congratulations! You have been selected for the Rugved task phase. Please use the link to join the task phase group.  https://chat.whatsapp.com/K14hdLw3HIh2OP0uysFfZc\"\n",
    "    phone = \"+91\"+i\n",
    "    pywhatkit.sendwhatmsg_instantly(phone,string)\n",
    "    time.sleep(2)"
   ]
  }
 ],
 "metadata": {
  "language_info": {
   "name": "python"
  }
 },
 "nbformat": 4,
 "nbformat_minor": 2
}
